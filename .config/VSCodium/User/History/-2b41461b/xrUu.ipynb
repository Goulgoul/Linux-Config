{
 "cells": [
  {
   "cell_type": "markdown",
   "metadata": {},
   "source": [
    "# Matrices\n",
    "\n",
    "- [Définition d'arrays à partir de listes](#définition-darrays-à-partir-de-listes)\n",
    "- [Définition de matrices 2D à partir de listes](#définition-de-matrices-2d-à-partir-de-listes)"
   ]
  },
  {
   "cell_type": "code",
   "execution_count": null,
   "metadata": {},
   "outputs": [],
   "source": [
    "import numpy as np"
   ]
  },
  {
   "cell_type": "markdown",
   "metadata": {},
   "source": [
    "## Définition d'arrays à partir de listes"
   ]
  },
  {
   "cell_type": "code",
   "execution_count": null,
   "metadata": {},
   "outputs": [],
   "source": [
    "L = [ 4, 5, 8, 2, 1, 5, 1 ]\n",
    "tab = np.array(L)\n",
    "\n"
   ]
  },
  {
   "cell_type": "code",
   "execution_count": null,
   "metadata": {},
   "outputs": [],
   "source": [
    "print (L)\n",
    "print (tab)\n",
    "print (tab.shape)"
   ]
  },
  {
   "cell_type": "code",
   "execution_count": null,
   "metadata": {},
   "outputs": [],
   "source": [
    "print(tab[2:5])"
   ]
  },
  {
   "cell_type": "code",
   "execution_count": null,
   "metadata": {},
   "outputs": [],
   "source": [
    "print (tab.dtype) # type des éléments contenus"
   ]
  },
  {
   "cell_type": "code",
   "execution_count": null,
   "metadata": {},
   "outputs": [],
   "source": [
    "x = np .arange(0, 2.1, 0.1)\n",
    "\n",
    "print(x)\n",
    "print(type(x))"
   ]
  },
  {
   "cell_type": "code",
   "execution_count": null,
   "metadata": {},
   "outputs": [],
   "source": [
    "y = np.linspace(0, 1, 100)\n",
    "print(y)"
   ]
  },
  {
   "cell_type": "code",
   "execution_count": null,
   "metadata": {},
   "outputs": [],
   "source": [
    "v = np.arange(1, 10, 2)\n",
    "w = v - 3\n",
    "print(v)\n",
    "print(w)\n",
    "\n",
    "print (v * w) # produit terme à terme\n"
   ]
  },
  {
   "cell_type": "code",
   "execution_count": 43,
   "metadata": {},
   "outputs": [
    {
     "name": "stdout",
     "output_type": "stream",
     "text": [
      "21\n",
      "[-2 14 -7]\n"
     ]
    }
   ],
   "source": [
    "v = np.array([0, 1, 2])\n",
    "w = np.array([7, 5, 8])\n",
    "print (dot(v, w))\n",
    "print(cross(v, w))\n"
   ]
  },
  {
   "cell_type": "code",
   "execution_count": 40,
   "metadata": {},
   "outputs": [
    {
     "name": "stdout",
     "output_type": "stream",
     "text": [
      "[[1 2]\n",
      " [4 5]\n",
      " [9 7]]\n",
      "[[1 4 9]\n",
      " [2 5 7]]\n"
     ]
    }
   ],
   "source": [
    "M = np.array([1, 2, 4, 5, 9, 7])\n",
    "M.shape = (3,2)\n",
    "\n",
    "print(M)\n",
    "print(M.T)"
   ]
  },
  {
   "cell_type": "code",
   "execution_count": 44,
   "metadata": {},
   "outputs": [
    {
     "name": "stdout",
     "output_type": "stream",
     "text": [
      "[[ 17  20  60]\n",
      " [ 53  53 219]\n",
      " [ 98  81 463]]\n",
      "21\n"
     ]
    }
   ],
   "source": [
    "P = np.array([7, 2, 46, 5, 9, 7])\n",
    "P.shape=(2, 3)\n",
    "\n",
    "print(M @ P)\n"
   ]
  },
  {
   "cell_type": "markdown",
   "metadata": {},
   "source": [
    "## Définition de matrices 2D à partir de listes"
   ]
  },
  {
   "cell_type": "code",
   "execution_count": 55,
   "metadata": {},
   "outputs": [
    {
     "name": "stdout",
     "output_type": "stream",
     "text": [
      "[[1 2 3]\n",
      " [4 5 8]\n",
      " [7 5 3]]\n",
      "14.212670403551895\n"
     ]
    }
   ],
   "source": [
    "L2 = [[1, 2, 3,], [4, 5, 8], [7, 5, 3]]\n",
    "M2 = np.array(L2)\n",
    "\n",
    "print(M2)\n",
    "print(np.linalg.norm(M2))"
   ]
  }
 ],
 "metadata": {
  "kernelspec": {
   "display_name": "Python 3",
   "language": "python",
   "name": "python3"
  },
  "language_info": {
   "codemirror_mode": {
    "name": "ipython",
    "version": 3
   },
   "file_extension": ".py",
   "mimetype": "text/x-python",
   "name": "python",
   "nbconvert_exporter": "python",
   "pygments_lexer": "ipython3",
   "version": "3.11.5"
  },
  "orig_nbformat": 4
 },
 "nbformat": 4,
 "nbformat_minor": 2
}
