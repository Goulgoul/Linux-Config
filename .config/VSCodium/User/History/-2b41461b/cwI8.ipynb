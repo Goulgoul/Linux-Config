{
 "cells": [
  {
   "cell_type": "markdown",
   "metadata": {},
   "source": [
    "# Matrices\n",
    "\n",
    "- [Définition d'arrays à partir de listes](#définition-darrays-à-partir-de-listes)\n",
    "- [Définition de matrices 2D à partir de listes](#définition-de-matrices-2d-à-partir-de-listes)"
   ]
  },
  {
   "cell_type": "code",
   "execution_count": 2,
   "metadata": {},
   "outputs": [],
   "source": [
    "import numpy as np"
   ]
  },
  {
   "cell_type": "markdown",
   "metadata": {},
   "source": [
    "## Définition d'arrays à partir de listes"
   ]
  },
  {
   "cell_type": "code",
   "execution_count": 3,
   "metadata": {},
   "outputs": [],
   "source": [
    "L = [ 4, 5, 8, 2, 1, 5, 1 ]\n",
    "tab = np.array(L)\n",
    "\n"
   ]
  },
  {
   "cell_type": "code",
   "execution_count": 4,
   "metadata": {},
   "outputs": [
    {
     "name": "stdout",
     "output_type": "stream",
     "text": [
      "[4, 5, 8, 2, 1, 5, 1]\n",
      "[4 5 8 2 1 5 1]\n",
      "(7,)\n"
     ]
    }
   ],
   "source": [
    "print (L)\n",
    "print (tab)\n",
    "print (tab.shape)"
   ]
  },
  {
   "cell_type": "code",
   "execution_count": 5,
   "metadata": {},
   "outputs": [
    {
     "name": "stdout",
     "output_type": "stream",
     "text": [
      "[8 2 1]\n"
     ]
    }
   ],
   "source": [
    "print(tab[2:5])"
   ]
  },
  {
   "cell_type": "code",
   "execution_count": 6,
   "metadata": {},
   "outputs": [
    {
     "name": "stdout",
     "output_type": "stream",
     "text": [
      "int64\n"
     ]
    }
   ],
   "source": [
    "print (tab.dtype) # type des éléments contenus"
   ]
  },
  {
   "cell_type": "code",
   "execution_count": 7,
   "metadata": {},
   "outputs": [
    {
     "name": "stdout",
     "output_type": "stream",
     "text": [
      "[0.  0.1 0.2 0.3 0.4 0.5 0.6 0.7 0.8 0.9 1.  1.1 1.2 1.3 1.4 1.5 1.6 1.7\n",
      " 1.8 1.9 2. ]\n",
      "<class 'numpy.ndarray'>\n"
     ]
    }
   ],
   "source": [
    "x = np .arange(0, 2.1, 0.1)\n",
    "\n",
    "print(x)\n",
    "print(type(x))"
   ]
  },
  {
   "cell_type": "code",
   "execution_count": 8,
   "metadata": {},
   "outputs": [
    {
     "name": "stdout",
     "output_type": "stream",
     "text": [
      "[0.         0.01010101 0.02020202 0.03030303 0.04040404 0.05050505\n",
      " 0.06060606 0.07070707 0.08080808 0.09090909 0.1010101  0.11111111\n",
      " 0.12121212 0.13131313 0.14141414 0.15151515 0.16161616 0.17171717\n",
      " 0.18181818 0.19191919 0.2020202  0.21212121 0.22222222 0.23232323\n",
      " 0.24242424 0.25252525 0.26262626 0.27272727 0.28282828 0.29292929\n",
      " 0.3030303  0.31313131 0.32323232 0.33333333 0.34343434 0.35353535\n",
      " 0.36363636 0.37373737 0.38383838 0.39393939 0.4040404  0.41414141\n",
      " 0.42424242 0.43434343 0.44444444 0.45454545 0.46464646 0.47474747\n",
      " 0.48484848 0.49494949 0.50505051 0.51515152 0.52525253 0.53535354\n",
      " 0.54545455 0.55555556 0.56565657 0.57575758 0.58585859 0.5959596\n",
      " 0.60606061 0.61616162 0.62626263 0.63636364 0.64646465 0.65656566\n",
      " 0.66666667 0.67676768 0.68686869 0.6969697  0.70707071 0.71717172\n",
      " 0.72727273 0.73737374 0.74747475 0.75757576 0.76767677 0.77777778\n",
      " 0.78787879 0.7979798  0.80808081 0.81818182 0.82828283 0.83838384\n",
      " 0.84848485 0.85858586 0.86868687 0.87878788 0.88888889 0.8989899\n",
      " 0.90909091 0.91919192 0.92929293 0.93939394 0.94949495 0.95959596\n",
      " 0.96969697 0.97979798 0.98989899 1.        ]\n"
     ]
    }
   ],
   "source": [
    "y = np.linspace(0, 1, 100)\n",
    "print(y)"
   ]
  },
  {
   "cell_type": "code",
   "execution_count": 9,
   "metadata": {},
   "outputs": [
    {
     "name": "stdout",
     "output_type": "stream",
     "text": [
      "[1 3 5 7 9]\n",
      "[-2  0  2  4  6]\n",
      "[-2  0 10 28 54]\n"
     ]
    }
   ],
   "source": [
    "v = np.arange(1, 10, 2)\n",
    "w = v - 3\n",
    "print(v)\n",
    "print(w)\n",
    "\n",
    "print (v * w) # produit terme à terme\n"
   ]
  },
  {
   "cell_type": "code",
   "execution_count": 10,
   "metadata": {},
   "outputs": [
    {
     "ename": "NameError",
     "evalue": "name 'dot' is not defined",
     "output_type": "error",
     "traceback": [
      "\u001b[0;31m---------------------------------------------------------------------------\u001b[0m",
      "\u001b[0;31mNameError\u001b[0m                                 Traceback (most recent call last)",
      "Cell \u001b[0;32mIn[10], line 3\u001b[0m\n\u001b[1;32m      1\u001b[0m v \u001b[39m=\u001b[39m np\u001b[39m.\u001b[39marray([\u001b[39m0\u001b[39m, \u001b[39m1\u001b[39m, \u001b[39m2\u001b[39m])\n\u001b[1;32m      2\u001b[0m w \u001b[39m=\u001b[39m np\u001b[39m.\u001b[39marray([\u001b[39m7\u001b[39m, \u001b[39m5\u001b[39m, \u001b[39m8\u001b[39m])\n\u001b[0;32m----> 3\u001b[0m \u001b[39mprint\u001b[39m (dot(v, w))\n\u001b[1;32m      4\u001b[0m \u001b[39mprint\u001b[39m(cross(v, w))\n",
      "\u001b[0;31mNameError\u001b[0m: name 'dot' is not defined"
     ]
    }
   ],
   "source": [
    "v = np.array([0, 1, 2])\n",
    "w = np.array([7, 5, 8])\n",
    "print (dot(v, w))\n",
    "print(cross(v, w))\n"
   ]
  },
  {
   "cell_type": "code",
   "execution_count": null,
   "metadata": {},
   "outputs": [],
   "source": [
    "M = np.array([1, 2, 4, 5, 9, 7])\n",
    "M.shape = (3,2)\n",
    "\n",
    "print(M)\n",
    "print(M.T)"
   ]
  },
  {
   "cell_type": "code",
   "execution_count": null,
   "metadata": {},
   "outputs": [],
   "source": [
    "P = np.array([7, 2, 46, 5, 9, 7])\n",
    "P.shape=(2, 3)\n",
    "\n",
    "print(M @ P)\n"
   ]
  },
  {
   "cell_type": "markdown",
   "metadata": {},
   "source": [
    "## Définition de matrices 2D à partir de listes"
   ]
  },
  {
   "cell_type": "code",
   "execution_count": 12,
   "metadata": {},
   "outputs": [
    {
     "name": "stdout",
     "output_type": "stream",
     "text": [
      "[[4 8 9 7 5]\n",
      " [5 8 6 7 1]\n",
      " [7 8 9 6 7]]\n"
     ]
    }
   ],
   "source": [
    "L2 = [[1, 2, 3,], [4, 5, 8], [7, 5, 3]]\n",
    "\n",
    "M2 = np.array(L2)\n",
    "\n",
    "A = np.array([[4, 8, 9, 7, 5],\n",
    "              [5, 8, 6, 7 ,1],\n",
    "              [7, 8, 9, 6, 7]])\n",
    "B = np.array([[7, 8, 9, 7, 5],\n",
    "              [852, 8, 6, 7 ,1],\n",
    "              [7, 8, 9, 6, 7]])\n",
    "print(A)"
   ]
  },
  {
   "cell_type": "code",
   "execution_count": 11,
   "metadata": {},
   "outputs": [
    {
     "ename": "NameError",
     "evalue": "name 'A' is not defined",
     "output_type": "error",
     "traceback": [
      "\u001b[0;31m---------------------------------------------------------------------------\u001b[0m",
      "\u001b[0;31mNameError\u001b[0m                                 Traceback (most recent call last)",
      "Cell \u001b[0;32mIn[11], line 1\u001b[0m\n\u001b[0;32m----> 1\u001b[0m \u001b[39mprint\u001b[39m(A[\u001b[39m1\u001b[39m:\u001b[39m2\u001b[39m, \u001b[39m3\u001b[39m:\u001b[39m4\u001b[39m])\n",
      "\u001b[0;31mNameError\u001b[0m: name 'A' is not defined"
     ]
    }
   ],
   "source": [
    "print(A[1:2, 3:4])"
   ]
  },
  {
   "cell_type": "markdown",
   "metadata": {},
   "source": [
    "## Opérations sur les matrices"
   ]
  },
  {
   "cell_type": "markdown",
   "metadata": {},
   "source": [
    "### Opérations terme-à-terme"
   ]
  },
  {
   "cell_type": "code",
   "execution_count": 14,
   "metadata": {},
   "outputs": [
    {
     "name": "stdout",
     "output_type": "stream",
     "text": [
      "[[ 11  16  18  14  10]\n",
      " [857  16  12  14   2]\n",
      " [ 14  16  18  12  14]]\n",
      "[[  28   64   81   49   25]\n",
      " [4260   64   36   49    1]\n",
      " [  49   64   81   36   49]]\n",
      "[[  -3    0    0    0    0]\n",
      " [-847    0    0    0    0]\n",
      " [   0    0    0    0    0]]\n",
      "[[0.57142857 1.         1.         1.         1.        ]\n",
      " [0.00586854 1.         1.         1.         1.        ]\n",
      " [1.         1.         1.         1.         1.        ]]\n",
      "[[ 247 3580  250]\n",
      " [ 207 4410  202]\n",
      " [ 271 6131  279]]\n"
     ]
    }
   ],
   "source": [
    "A = np.array([[4, 8, 9, 7, 5],\n",
    "              [5, 8, 6, 7 ,1],\n",
    "              [7, 8, 9, 6, 7]])\n",
    "B = np.array([[7, 8, 9, 7, 5],\n",
    "              [852, 8, 6, 7 ,1],\n",
    "              [7, 8, 9, 6, 7]])\n",
    "\n",
    "print(A + B)\n",
    "print(A * B)\n",
    "print(A - B)\n",
    "print(A / B)\n",
    "\n",
    "print(A @ B.T)\n"
   ]
  }
 ],
 "metadata": {
  "kernelspec": {
   "display_name": "Python 3",
   "language": "python",
   "name": "python3"
  },
  "language_info": {
   "codemirror_mode": {
    "name": "ipython",
    "version": 3
   },
   "file_extension": ".py",
   "mimetype": "text/x-python",
   "name": "python",
   "nbconvert_exporter": "python",
   "pygments_lexer": "ipython3",
   "version": "3.11.5"
  },
  "orig_nbformat": 4
 },
 "nbformat": 4,
 "nbformat_minor": 2
}
