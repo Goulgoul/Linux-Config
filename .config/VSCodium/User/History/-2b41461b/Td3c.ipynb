{
 "cells": [
  {
   "cell_type": "markdown",
   "metadata": {},
   "source": [
    "# Matrices\n",
    "\n",
    "- [Définition d'arrays à partir de listes](#définition-darrays-à-partir-de-listes)\n",
    "- [Définition de matrices 2D à partir de listes](#définition-de-matrices-2d-à-partir-de-listes)"
   ]
  },
  {
   "cell_type": "code",
   "execution_count": null,
   "metadata": {},
   "outputs": [],
   "source": [
    "import numpy as np"
   ]
  },
  {
   "cell_type": "markdown",
   "metadata": {},
   "source": [
    "## Définition d'arrays à partir de listes"
   ]
  },
  {
   "cell_type": "code",
   "execution_count": null,
   "metadata": {},
   "outputs": [],
   "source": [
    "L = [ 4, 5, 8, 2, 1, 5, 1 ]\n",
    "tab = np.array(L)\n",
    "\n"
   ]
  },
  {
   "cell_type": "code",
   "execution_count": null,
   "metadata": {},
   "outputs": [],
   "source": [
    "print (L)\n",
    "print (tab)\n",
    "print (tab.shape)"
   ]
  },
  {
   "cell_type": "code",
   "execution_count": null,
   "metadata": {},
   "outputs": [],
   "source": [
    "print(tab[2:5])"
   ]
  },
  {
   "cell_type": "code",
   "execution_count": null,
   "metadata": {},
   "outputs": [],
   "source": [
    "print (tab.dtype) # type des éléments contenus"
   ]
  },
  {
   "cell_type": "code",
   "execution_count": null,
   "metadata": {},
   "outputs": [],
   "source": [
    "x = np .arange(0, 2.1, 0.1)\n",
    "\n",
    "print(x)\n",
    "print(type(x))"
   ]
  },
  {
   "cell_type": "code",
   "execution_count": null,
   "metadata": {},
   "outputs": [],
   "source": [
    "y = np.linspace(0, 1, 100)\n",
    "print(y)"
   ]
  },
  {
   "cell_type": "code",
   "execution_count": null,
   "metadata": {},
   "outputs": [],
   "source": [
    "v = np.arange(1, 10, 2)\n",
    "w = v - 3\n",
    "print(v)\n",
    "print(w)\n",
    "\n",
    "print (v * w) # produit terme à terme\n"
   ]
  },
  {
   "cell_type": "code",
   "execution_count": null,
   "metadata": {},
   "outputs": [],
   "source": [
    "v = np.array([0, 1, 2])\n",
    "w = np.array([7, 5, 8])\n",
    "print (dot(v, w))\n",
    "print(cross(v, w))\n"
   ]
  },
  {
   "cell_type": "code",
   "execution_count": null,
   "metadata": {},
   "outputs": [],
   "source": [
    "M = np.array([1, 2, 4, 5, 9, 7])\n",
    "M.shape = (3,2)\n",
    "\n",
    "print(M)\n",
    "print(M.T)"
   ]
  },
  {
   "cell_type": "code",
   "execution_count": null,
   "metadata": {},
   "outputs": [],
   "source": [
    "P = np.array([7, 2, 46, 5, 9, 7])\n",
    "P.shape=(2, 3)\n",
    "\n",
    "print(M @ P)\n"
   ]
  },
  {
   "cell_type": "markdown",
   "metadata": {},
   "source": [
    "## Définition de matrices 2D à partir de listes"
   ]
  },
  {
   "cell_type": "code",
   "execution_count": 22,
   "metadata": {},
   "outputs": [
    {
     "name": "stdout",
     "output_type": "stream",
     "text": [
      "[[4 8 9 7 5]\n",
      " [5 8 6 7 1]\n",
      " [7 8 9 6 7]]\n"
     ]
    }
   ],
   "source": [
    "L2 = [[1, 2, 3,], [4, 5, 8], [7, 5, 3]]\n",
    "\n",
    "M2 = np.array(L2)\n",
    "\n",
    "A = np.array([[4, 8, 9, 7, 5],\n",
    "              [5, 8, 6, 7 ,1],\n",
    "              [7, 8, 9, 6, 7]])\n",
    "B = np.array([[7, 8, 9, 7, 5],\n",
    "              [852, 8, 6, 7 ,1],\n",
    "              [7, 8, 9, 6, 7]])\n",
    "print(A)"
   ]
  },
  {
   "cell_type": "code",
   "execution_count": 19,
   "metadata": {},
   "outputs": [
    {
     "name": "stdout",
     "output_type": "stream",
     "text": [
      "[[7]]\n"
     ]
    }
   ],
   "source": [
    "print(A[1:2, 3:4])"
   ]
  },
  {
   "cell_type": "markdown",
   "metadata": {},
   "source": [
    "## Opérations sur les matrices"
   ]
  },
  {
   "cell_type": "markdown",
   "metadata": {},
   "source": [
    "### Opérations terme-à-terme"
   ]
  },
  {
   "cell_type": "code",
   "execution_count": 27,
   "metadata": {},
   "outputs": [
    {
     "name": "stdout",
     "output_type": "stream",
     "text": [
      "[[ 11  16  18  14  10]\n",
      " [857  16  12  14   2]\n",
      " [ 14  16  18  12  14]]\n",
      "[[  28   64   81   49   25]\n",
      " [4260   64   36   49    1]\n",
      " [  49   64   81   36   49]]\n",
      "[[  -3    0    0    0    0]\n",
      " [-847    0    0    0    0]\n",
      " [   0    0    0    0    0]]\n",
      "[[0.57142857 1.         1.         1.         1.        ]\n",
      " [0.00586854 1.         1.         1.         1.        ]\n",
      " [1.         1.         1.         1.         1.        ]]\n"
     ]
    }
   ],
   "source": [
    "print(A + B)\n",
    "print(A * B)\n",
    "print(A - B)\n",
    "print(A / B)\n"
   ]
  }
 ],
 "metadata": {
  "kernelspec": {
   "display_name": "Python 3",
   "language": "python",
   "name": "python3"
  },
  "language_info": {
   "codemirror_mode": {
    "name": "ipython",
    "version": 3
   },
   "file_extension": ".py",
   "mimetype": "text/x-python",
   "name": "python",
   "nbconvert_exporter": "python",
   "pygments_lexer": "ipython3",
   "version": "3.11.5"
  },
  "orig_nbformat": 4
 },
 "nbformat": 4,
 "nbformat_minor": 2
}
